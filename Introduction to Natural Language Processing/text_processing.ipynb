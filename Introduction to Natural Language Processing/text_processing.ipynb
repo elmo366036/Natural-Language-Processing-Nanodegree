{
 "cells": [
  {
   "cell_type": "markdown",
   "metadata": {},
   "source": [
    "# Text Processing\n",
    "\n",
    "## Capturing Text Data\n",
    "\n",
    "### Plain Text"
   ]
  },
  {
   "cell_type": "code",
   "execution_count": 19,
   "metadata": {},
   "outputs": [
    {
     "name": "stdout",
     "output_type": "stream",
     "text": [
      "C:\\Users\\wc5257\\OneDrive - AT&T Services, Inc\\Documents\\Programming Training\\Udacity - Natural Language Processing\\Introduction to Natural Language Processing\\data\n"
     ]
    }
   ],
   "source": [
    "path = \"C:\\\\Users\\\\wc5257\\\\OneDrive - AT&T Services, Inc\\\\Documents\\\\Programming Training\\\\Udacity - Natural Language Processing\\\\Introduction to Natural Language Processing\\\\data\"\n",
    "print(path)"
   ]
  },
  {
   "cell_type": "code",
   "execution_count": 20,
   "metadata": {},
   "outputs": [
    {
     "name": "stdout",
     "output_type": "stream",
     "text": [
      "Hieroglyphic writing dates from c. 3000 BC, and is composed of hundreds of symbols. A hieroglyph can represent a word, a sound, or a silent determinative; and the same symbol can serve different purposes in different contexts. Hieroglyphs were a formal script, used on stone monuments and in tombs, that could be as detailed as individual works of art.\n",
      "\n"
     ]
    }
   ],
   "source": [
    "import os\n",
    "\n",
    "# Read in a plain text file\n",
    "with open(os.path.join(path, \"hieroglyph.txt\"), \"r\") as f:\n",
    "    text = f.read()\n",
    "    print(text)"
   ]
  },
  {
   "cell_type": "markdown",
   "metadata": {},
   "source": [
    "### Tabular Data"
   ]
  },
  {
   "cell_type": "code",
   "execution_count": 21,
   "metadata": {
    "scrolled": true
   },
   "outputs": [
    {
     "data": {
      "text/html": [
       "<div>\n",
       "<style scoped>\n",
       "    .dataframe tbody tr th:only-of-type {\n",
       "        vertical-align: middle;\n",
       "    }\n",
       "\n",
       "    .dataframe tbody tr th {\n",
       "        vertical-align: top;\n",
       "    }\n",
       "\n",
       "    .dataframe thead th {\n",
       "        text-align: right;\n",
       "    }\n",
       "</style>\n",
       "<table border=\"1\" class=\"dataframe\">\n",
       "  <thead>\n",
       "    <tr style=\"text-align: right;\">\n",
       "      <th></th>\n",
       "      <th>publisher</th>\n",
       "      <th>title</th>\n",
       "    </tr>\n",
       "  </thead>\n",
       "  <tbody>\n",
       "    <tr>\n",
       "      <th>0</th>\n",
       "      <td>Livemint</td>\n",
       "      <td>fed's charles plosser sees high bar for change...</td>\n",
       "    </tr>\n",
       "    <tr>\n",
       "      <th>1</th>\n",
       "      <td>IFA Magazine</td>\n",
       "      <td>us open: stocks fall after fed official hints ...</td>\n",
       "    </tr>\n",
       "    <tr>\n",
       "      <th>2</th>\n",
       "      <td>IFA Magazine</td>\n",
       "      <td>fed risks falling 'behind the curve', charles ...</td>\n",
       "    </tr>\n",
       "    <tr>\n",
       "      <th>3</th>\n",
       "      <td>Moneynews</td>\n",
       "      <td>fed's plosser: nasty weather has curbed job gr...</td>\n",
       "    </tr>\n",
       "    <tr>\n",
       "      <th>4</th>\n",
       "      <td>NASDAQ</td>\n",
       "      <td>plosser: fed may have to accelerate tapering pace</td>\n",
       "    </tr>\n",
       "  </tbody>\n",
       "</table>\n",
       "</div>"
      ],
      "text/plain": [
       "      publisher                                              title\n",
       "0      Livemint  fed's charles plosser sees high bar for change...\n",
       "1  IFA Magazine  us open: stocks fall after fed official hints ...\n",
       "2  IFA Magazine  fed risks falling 'behind the curve', charles ...\n",
       "3     Moneynews  fed's plosser: nasty weather has curbed job gr...\n",
       "4        NASDAQ  plosser: fed may have to accelerate tapering pace"
      ]
     },
     "execution_count": 21,
     "metadata": {},
     "output_type": "execute_result"
    }
   ],
   "source": [
    "import pandas as pd\n",
    "\n",
    "# Extract text column from a dataframe\n",
    "df = pd.read_csv(os.path.join(path, \"news.csv\"))\n",
    "df.head()[['publisher', 'title']]\n",
    "\n",
    "# Convert text column to lowercase\n",
    "df['title'] = df['title'].str.lower()\n",
    "df.head()[['publisher', 'title']]"
   ]
  },
  {
   "cell_type": "markdown",
   "metadata": {},
   "source": [
    "### Online Resource"
   ]
  },
  {
   "cell_type": "code",
   "execution_count": 22,
   "metadata": {
    "scrolled": true
   },
   "outputs": [
    {
     "name": "stdout",
     "output_type": "stream",
     "text": [
      "{\n",
      "    \"success\": {\n",
      "        \"total\": 1\n",
      "    },\n",
      "    \"contents\": {\n",
      "        \"quotes\": [\n",
      "            {\n",
      "                \"quote\": \"It wasn't raining when Noah built the ark..\",\n",
      "                \"length\": \"45\",\n",
      "                \"author\": \"Howard Ruff\",\n",
      "                \"tags\": [\n",
      "                    \"being-prepared\",\n",
      "                    \"inspire\"\n",
      "                ],\n",
      "                \"category\": \"inspire\",\n",
      "                \"language\": \"en\",\n",
      "                \"date\": \"2023-01-18\",\n",
      "                \"permalink\": \"https://theysaidso.com/quote/howard-ruff-it-wasnt-raining-when-noah-built-the-ark\",\n",
      "                \"id\": \"bcYwS_RS1KCvfQ_ymsXk0AeF\",\n",
      "                \"background\": \"https://theysaidso.com/img/qod/qod-inspire.jpg\",\n",
      "                \"title\": \"Inspiring Quote of the day\"\n",
      "            }\n",
      "        ]\n",
      "    },\n",
      "    \"baseurl\": \"https://theysaidso.com\",\n",
      "    \"copyright\": {\n",
      "        \"year\": 2025,\n",
      "        \"url\": \"https://theysaidso.com\"\n",
      "    }\n",
      "}\n",
      "It wasn't raining when Noah built the ark.. \n",
      "-- Howard Ruff\n"
     ]
    },
    {
     "name": "stderr",
     "output_type": "stream",
     "text": [
      "C:\\Users\\wc5257\\Anaconda3\\lib\\site-packages\\urllib3\\connectionpool.py:1013: InsecureRequestWarning: Unverified HTTPS request is being made to host 'quotes.rest'. Adding certificate verification is strongly advised. See: https://urllib3.readthedocs.io/en/latest/advanced-usage.html#ssl-warnings\n",
      "  warnings.warn(\n"
     ]
    }
   ],
   "source": [
    "import requests\n",
    "import json\n",
    "\n",
    "# Fetch data from a REST API\n",
    "r = requests.get(\n",
    "    \"https://quotes.rest/qod.json\", verify=False)\n",
    "res = r.json()\n",
    "print(json.dumps(res, indent=4))\n",
    "\n",
    "# Extract relevant object and field\n",
    "q = res[\"contents\"][\"quotes\"][0]\n",
    "print(q[\"quote\"], \"\\n--\", q[\"author\"])"
   ]
  },
  {
   "cell_type": "markdown",
   "metadata": {},
   "source": [
    "## Cleaning"
   ]
  },
  {
   "cell_type": "code",
   "execution_count": 23,
   "metadata": {
    "scrolled": true
   },
   "outputs": [
    {
     "name": "stdout",
     "output_type": "stream",
     "text": [
      "<html lang=\"en\" op=\"news\"><head><meta name=\"referrer\" content=\"origin\"><meta name=\"viewport\" content=\"width=device-width, initial-scale=1.0\"><link rel=\"stylesheet\" type=\"text/css\" href=\"news.css?yLzyAtfHlZW2SsC79ET7\">\n",
      "        <link rel=\"shortcut icon\" href=\"favicon.ico\">\n",
      "          <link rel=\"alternate\" type=\"application/rss+xml\" title=\"RSS\" href=\"rss\">\n",
      "        <title>Hacker News</title></head><body><center><table id=\"hnmain\" border=\"0\" cellpadding=\"0\" cellspacing=\"0\" width=\"85%\" bgcolor=\"#f6f6ef\">\n",
      "        <tr><td bgcolor=\"#ff6600\"><table border=\"0\" cellpadding=\"0\" cellspacing=\"0\" width=\"100%\" style=\"padding:2px\"><tr><td style=\"width:18px;padding-right:4px\"><a href=\"https://news.ycombinator.com\"><img src=\"y18.gif\" width=\"18\" height=\"18\" style=\"border:1px white solid;\"></a></td>\n",
      "                  <td style=\"line-height:12pt; height:10px;\"><span class=\"pagetop\"><b class=\"hnname\"><a href=\"news\">Hacker News</a></b>\n",
      "                            <a href=\"newest\">new</a> | <a href=\"front\">past</a> | <a href=\"newcomments\">comments</a> | <a href=\"ask\">ask</a> | <a href=\"show\">show</a> | <a href=\"jobs\">jobs</a> | <a href=\"submit\">submit</a>            </span></td><td style=\"text-align:right;padding-right:4px;\"><span class=\"pagetop\">\n",
      "                              <a href=\"login?goto=news\">login</a>\n",
      "                          </span></td>\n",
      "              </tr></table></td></tr>\n",
      "<tr id=\"pagespace\" title=\"\" style=\"height:10px\"></tr><tr><td><table border=\"0\" cellpadding=\"0\" cellspacing=\"0\">\n",
      "            <tr class='athing' id='34424854'>\n",
      "      <td align=\"right\" valign=\"top\" class=\"title\"><span class=\"rank\">1.</span></td>      <td valign=\"top\" class=\"votelinks\"><center><a id='up_34424854'href='vote?id=34424854&amp;how=up&amp;goto=news'><div class='votearrow' title='upvote'></div></a></center></td><td class=\"title\"><span class=\"titleline\"><a href=\"https://thonny.org\">Thonny – Python IDE for beginners</a><span class=\"sitebit comhead\"> (<a href=\"from?site=thonny.org\"><span class=\"sitestr\">thonny.org</span></a>)</span></span></td></tr><tr><td colspan=\"2\"></td><td class=\"subtext\"><span class=\"subline\">\n",
      "          <span class=\"score\" id=\"score_34424854\">219 points</span> by <a href=\"user?id=ankit70\" class=\"hnuser\">ankit70</a> <span class=\"age\" title=\"2023-01-18T09:15:33\"><a href=\"item?id=34424854\">5 hours ago</a></span> <span id=\"unv_34424854\"></span> | <a href=\"hide?id=34424854&amp;goto=news\">hide</a> | <a href=\"item?id=34424854\">49&nbsp;comments</a>        </span>\n",
      "              </td></tr>\n",
      "      <tr class=\"spacer\" style=\"height:5px\"></tr>\n",
      "                <tr class='athing' id='34426430'>\n",
      "      <td align=\"right\" valign=\"top\" class=\"title\"><span class=\"rank\">2.</span></td>      <td valign=\"top\" class=\"votelinks\"><center><a id='up_34426430'href='vote?id=34426430&amp;how=up&amp;goto=news'><div class='votearrow' title='upvote'></div></a></center></td><td class=\"title\"><span class=\"titleline\"><a href=\"https://nullprogram.com/blog/2023/01/18/\">U-config – A new, lean pkg-config clone</a><span class=\"sitebit comhead\"> (<a href=\"from?site=nullprogram.com\"><span class=\"sitestr\">nullprogram.com</span></a>)</span></span></td></tr><tr><td colspan=\"2\"></td><td class=\"subtext\"><span class=\"subline\">\n",
      "          <span class=\"score\" id=\"score_34426430\">27 points</span> by <a href=\"user?id=phoebos\" class=\"hnuser\">phoebos</a> <span class=\"age\" title=\"2023-01-18T13:36:42\"><a href=\"item?id=34426430\">1 hour ago</a></span> <span id=\"unv_34426430\"></span> | <a href=\"hide?id=34426430&amp;goto=news\">hide</a> | <a href=\"item?id=34426430\">18&nbsp;comments</a>        </span>\n",
      "              </td></tr>\n",
      "      <tr class=\"spacer\" style=\"height:5px\"></tr>\n",
      "                <tr class='athing' id='34425067'>\n",
      "      <td align=\"right\" valign=\"top\" class=\"title\"><span class=\"rank\">3.</span></td>      <td valign=\"top\" class=\"votelinks\"><center><a id='up_34425067'href='vote?id=34425067&amp;how=up&amp;goto=news'><div class='votearrow' title='upvote'></div></a></center></td><td class=\"title\"><span class=\"titleline\"><a href=\"https://www.da.vidbuchanan.co.uk/blog/hello-png.html\">Hello, PNG</a><span class=\"sitebit comhead\"> (<a href=\"from?site=vidbuchanan.co.uk\"><span class=\"sitestr\">vidbuchanan.co.uk</span></a>)</span></span></td></tr><tr><td colspan=\"2\"></td><td class=\"subtext\"><span class=\"subline\">\n",
      "          <span class=\"score\" id=\"score_34425067\">115 points</span> by <a href=\"user?id=EntICOnc\" class=\"hnuser\">EntICOnc</a> <span class=\"age\" title=\"2023-01-18T10:01:00\"><a href=\"item?id=34425067\">4 hours ago</a></span> <span id=\"unv_34425067\"></span> | <a href=\"hide?id=34425067&amp;goto=news\">hide</a> | <a href=\"item?id=34425067\">71&nbsp;comments</a>        </span>\n",
      "              </td></tr>\n",
      "      <tr class=\"spacer\" style=\"height:5px\"></tr>\n",
      "                <tr class='athing' id='34415732'>\n",
      "      <td align=\"right\" valign=\"top\" class=\"title\"><span class=\"rank\">4.</span></td>      <td valign=\"top\" class=\"votelinks\"><center><a id='up_34415732'href='vote?id=34415732&amp;how=up&amp;goto=news'><div class='votearrow' title='upvote'></div></a></center></td><td class=\"title\"><span class=\"titleline\"><a href=\"https://tegowerk.eu/posts/cruel-optimism/\">Cruel optimism and lazy pessimism</a><span class=\"sitebit comhead\"> (<a href=\"from?site=tegowerk.eu\"><span class=\"sitestr\">tegowerk.eu</span></a>)</span></span></td></tr><tr><td colspan=\"2\"></td><td class=\"subtext\"><span class=\"subline\">\n",
      "          <span class=\"score\" id=\"score_34415732\">77 points</span> by <a href=\"user?id=victorstanciu\" class=\"hnuser\">victorstanciu</a> <span class=\"age\" title=\"2023-01-17T17:44:30\"><a href=\"item?id=34415732\">4 hours ago</a></span> <span id=\"unv_34415732\"></span> | <a href=\"hide?id=34415732&amp;goto=news\">hide</a> | <a href=\"item?id=34415732\">39&nbsp;comments</a>        </span>\n",
      "              </td></tr>\n",
      "      <tr class=\"spacer\" style=\"height:5px\"></tr>\n",
      "                <tr class='athing' id='34425614'>\n",
      "      <td align=\"right\" valign=\"top\" class=\"title\"><span class=\"rank\">5.</span></td>      <td valign=\"top\" class=\"votelinks\"><center><a id='up_34425614'href='vote?id=34425614&amp;how=up&amp;goto=news'><div class='votearrow' title='upvote'></div></a></center></td><td class=\"title\"><span class=\"titleline\"><a href=\"https://github.com/MinBZK/woo-besluit-broncode-digid-app\">Source code for Dutch DigiD app released under Dutch Open Government Act</a><span class=\"sitebit comhead\"> (<a href=\"from?site=github.com/minbzk\"><span class=\"sitestr\">github.com/minbzk</span></a>)</span></span></td></tr><tr><td colspan=\"2\"></td><td class=\"subtext\"><span class=\"subline\">\n",
      "          <span class=\"score\" id=\"score_34425614\">171 points</span> by <a href=\"user?id=kf\" class=\"hnuser\">kf</a> <span class=\"age\" title=\"2023-01-18T11:41:46\"><a href=\"item?id=34425614\">3 hours ago</a></span> <span id=\"unv_34425614\"></span> | <a href=\"hide?id=34425614&amp;goto=news\">hide</a> | <a href=\"item?id=34425614\">99&nbsp;comments</a>        </span>\n",
      "              </td></tr>\n",
      "      <tr class=\"spacer\" style=\"height:5px\"></tr>\n",
      "                <tr class='athing' id='34426198'>\n",
      "      <td align=\"right\" valign=\"top\" class=\"title\"><span class=\"rank\">6.</span></td>      <td valign=\"top\" class=\"votelinks\"><center><a id='up_34426198'href='vote?id=34426198&amp;how=up&amp;goto=news'><div class='votearrow' title='upvote'></div></a></center></td><td class=\"title\"><span class=\"titleline\"><a href=\"https://reactos.org/\">ReactOS</a><span class=\"sitebit comhead\"> (<a href=\"from?site=reactos.org\"><span class=\"sitestr\">reactos.org</span></a>)</span></span></td></tr><tr><td colspan=\"2\"></td><td class=\"subtext\"><span class=\"subline\">\n",
      "          <span class=\"score\" id=\"score_34426198\">55 points</span> by <a href=\"user?id=giancarlostoro\" class=\"hnuser\">giancarlostoro</a> <span class=\"age\" title=\"2023-01-18T13:09:40\"><a href=\"item?id=34426198\">1 hour ago</a></span> <span id=\"unv_34426198\"></span> | <a href=\"hide?id=34426198&amp;goto=news\">hide</a> | <a href=\"item?id=34426198\">18&nbsp;comments</a>        </span>\n",
      "              </td></tr>\n",
      "      <tr class=\"spacer\" style=\"height:5px\"></tr>\n",
      "                <tr class='athing' id='34426875'>\n",
      "      <td align=\"right\" valign=\"top\" class=\"title\"><span class=\"rank\">7.</span></td>      <td valign=\"top\" class=\"votelinks\"><center><a id='up_34426875'href='vote?id=34426875&amp;how=up&amp;goto=news'><div class='votearrow' title='upvote'></div></a></center></td><td class=\"title\"><span class=\"titleline\"><a href=\"https://www.cell.com/cell/fulltext/S0092-8674(22)01570-7\">Loss of epigenetic information as a cause of mammalian aging</a><span class=\"sitebit comhead\"> (<a href=\"from?site=cell.com\"><span class=\"sitestr\">cell.com</span></a>)</span></span></td></tr><tr><td colspan=\"2\"></td><td class=\"subtext\"><span class=\"subline\">\n",
      "          <span class=\"score\" id=\"score_34426875\">26 points</span> by <a href=\"user?id=rdpfeffer\" class=\"hnuser\">rdpfeffer</a> <span class=\"age\" title=\"2023-01-18T14:21:18\"><a href=\"item?id=34426875\">37 minutes ago</a></span> <span id=\"unv_34426875\"></span> | <a href=\"hide?id=34426875&amp;goto=news\">hide</a> | <a href=\"item?id=34426875\">5&nbsp;comments</a>        </span>\n",
      "              </td></tr>\n",
      "      <tr class=\"spacer\" style=\"height:5px\"></tr>\n",
      "                <tr class='athing' id='34426421'>\n",
      "      <td align=\"right\" valign=\"top\" class=\"title\"><span class=\"rank\">8.</span></td>      <td valign=\"top\" class=\"votelinks\"><center><a id='up_34426421'href='vote?id=34426421&amp;how=up&amp;goto=news'><div class='votearrow' title='upvote'></div></a></center></td><td class=\"title\"><span class=\"titleline\"><a href=\"https://time.com/6247678/openai-chatgpt-kenya-workers/\">OpenAI Used Kenyan Workers on Less Than $2 per Hour to Make ChatGPT Less Toxic</a><span class=\"sitebit comhead\"> (<a href=\"from?site=time.com\"><span class=\"sitestr\">time.com</span></a>)</span></span></td></tr><tr><td colspan=\"2\"></td><td class=\"subtext\"><span class=\"subline\">\n",
      "          <span class=\"score\" id=\"score_34426421\">68 points</span> by <a href=\"user?id=mkeeter\" class=\"hnuser\">mkeeter</a> <span class=\"age\" title=\"2023-01-18T13:35:31\"><a href=\"item?id=34426421\">1 hour ago</a></span> <span id=\"unv_34426421\"></span> | <a href=\"hide?id=34426421&amp;goto=news\">hide</a> | <a href=\"item?id=34426421\">51&nbsp;comments</a>        </span>\n",
      "              </td></tr>\n",
      "      <tr class=\"spacer\" style=\"height:5px\"></tr>\n",
      "                <tr class='athing' id='34422627'>\n",
      "      <td align=\"right\" valign=\"top\" class=\"title\"><span class=\"rank\">9.</span></td>      <td valign=\"top\" class=\"votelinks\"><center><a id='up_34422627'href='vote?id=34422627&amp;how=up&amp;goto=news'><div class='votearrow' title='upvote'></div></a></center></td><td class=\"title\"><span class=\"titleline\"><a href=\"https://github.com/hwchase17/langchain\">LangChain: Build AI apps with LLMs through composability</a><span class=\"sitebit comhead\"> (<a href=\"from?site=github.com/hwchase17\"><span class=\"sitestr\">github.com/hwchase17</span></a>)</span></span></td></tr><tr><td colspan=\"2\"></td><td class=\"subtext\"><span class=\"subline\">\n",
      "          <span class=\"score\" id=\"score_34422627\">314 points</span> by <a href=\"user?id=azhenley\" class=\"hnuser\">azhenley</a> <span class=\"age\" title=\"2023-01-18T02:16:13\"><a href=\"item?id=34422627\">12 hours ago</a></span> <span id=\"unv_34422627\"></span> | <a href=\"hide?id=34422627&amp;goto=news\">hide</a> | <a href=\"item?id=34422627\">60&nbsp;comments</a>        </span>\n",
      "              </td></tr>\n",
      "      <tr class=\"spacer\" style=\"height:5px\"></tr>\n",
      "                <tr class='athing' id='34387220'>\n",
      "      <td align=\"right\" valign=\"top\" class=\"title\"><span class=\"rank\">10.</span></td>      <td valign=\"top\" class=\"votelinks\"><center><a id='up_34387220'href='vote?id=34387220&amp;how=up&amp;goto=news'><div class='votearrow' title='upvote'></div></a></center></td><td class=\"title\"><span class=\"titleline\"><a href=\"https://www.youtube.com/watch?v=la2ztR5askE\">Restoring a Vintage Rolex GMT</a><span class=\"sitebit comhead\"> (<a href=\"from?site=youtube.com\"><span class=\"sitestr\">youtube.com</span></a>)</span></span></td></tr><tr><td colspan=\"2\"></td><td class=\"subtext\"><span class=\"subline\">\n",
      "          <span class=\"score\" id=\"score_34387220\">19 points</span> by <a href=\"user?id=stevekemp\" class=\"hnuser\">stevekemp</a> <span class=\"age\" title=\"2023-01-15T06:29:07\"><a href=\"item?id=34387220\">1 hour ago</a></span> <span id=\"unv_34387220\"></span> | <a href=\"hide?id=34387220&amp;goto=news\">hide</a> | <a href=\"item?id=34387220\">4&nbsp;comments</a>        </span>\n",
      "              </td></tr>\n",
      "      <tr class=\"spacer\" style=\"height:5px\"></tr>\n",
      "                <tr class='athing' id='34425525'>\n",
      "      <td align=\"right\" valign=\"top\" class=\"title\"><span class=\"rank\">11.</span></td>      <td valign=\"top\" class=\"votelinks\"><center><a id='up_34425525'href='vote?id=34425525&amp;how=up&amp;goto=news'><div class='votearrow' title='upvote'></div></a></center></td><td class=\"title\"><span class=\"titleline\"><a href=\"https://www.swyx.io/create-luck/\">Create optimal conditions for lucky things to happen to you (2020)</a><span class=\"sitebit comhead\"> (<a href=\"from?site=swyx.io\"><span class=\"sitestr\">swyx.io</span></a>)</span></span></td></tr><tr><td colspan=\"2\"></td><td class=\"subtext\"><span class=\"subline\">\n",
      "          <span class=\"score\" id=\"score_34425525\">130 points</span> by <a href=\"user?id=alexzeitler\" class=\"hnuser\">alexzeitler</a> <span class=\"age\" title=\"2023-01-18T11:26:26\"><a href=\"item?id=34425525\">3 hours ago</a></span> <span id=\"unv_34425525\"></span> | <a href=\"hide?id=34425525&amp;goto=news\">hide</a> | <a href=\"item?id=34425525\">50&nbsp;comments</a>        </span>\n",
      "              </td></tr>\n",
      "      <tr class=\"spacer\" style=\"height:5px\"></tr>\n",
      "                <tr class='athing' id='34427055'>\n",
      "      <td align=\"right\" valign=\"top\" class=\"title\"><span class=\"rank\">12.</span></td>      <td valign=\"top\" class=\"votelinks\"><center><a id='up_34427055'href='vote?id=34427055&amp;how=up&amp;goto=news'><div class='votearrow' title='upvote'></div></a></center></td><td class=\"title\"><span class=\"titleline\"><a href=\"https://blogs.microsoft.com/blog/2023/01/18/subject-focusing-on-our-short-and-long-term-opportunity/\">Microsoft to lay off 10k workers</a><span class=\"sitebit comhead\"> (<a href=\"from?site=microsoft.com\"><span class=\"sitestr\">microsoft.com</span></a>)</span></span></td></tr><tr><td colspan=\"2\"></td><td class=\"subtext\"><span class=\"subline\">\n",
      "          <span class=\"score\" id=\"score_34427055\">72 points</span> by <a href=\"user?id=dola\" class=\"hnuser\">dola</a> <span class=\"age\" title=\"2023-01-18T14:36:13\"><a href=\"item?id=34427055\">22 minutes ago</a></span> <span id=\"unv_34427055\"></span> | <a href=\"hide?id=34427055&amp;goto=news\">hide</a> | <a href=\"item?id=34427055\">6&nbsp;comments</a>        </span>\n",
      "              </td></tr>\n",
      "      <tr class=\"spacer\" style=\"height:5px\"></tr>\n",
      "                <tr class='athing' id='34427081'>\n",
      "      <td align=\"right\" valign=\"top\" class=\"title\"><span class=\"rank\">13.</span></td>      <td valign=\"top\" class=\"votelinks\"><center><a id='up_34427081'href='vote?id=34427081&amp;how=up&amp;goto=news'><div class='votearrow' title='upvote'></div></a></center></td><td class=\"title\"><span class=\"titleline\"><a href=\"https://github.com/SuperDisk/tar.pl\">`tar` creator&#x2F;extractor in ~100 lines of Prolog</a><span class=\"sitebit comhead\"> (<a href=\"from?site=github.com/superdisk\"><span class=\"sitestr\">github.com/superdisk</span></a>)</span></span></td></tr><tr><td colspan=\"2\"></td><td class=\"subtext\"><span class=\"subline\">\n",
      "          <span class=\"score\" id=\"score_34427081\">4 points</span> by <a href=\"user?id=superdisk\" class=\"hnuser\">superdisk</a> <span class=\"age\" title=\"2023-01-18T14:38:15\"><a href=\"item?id=34427081\">20 minutes ago</a></span> <span id=\"unv_34427081\"></span> | <a href=\"hide?id=34427081&amp;goto=news\">hide</a> | <a href=\"item?id=34427081\">discuss</a>        </span>\n",
      "              </td></tr>\n",
      "      <tr class=\"spacer\" style=\"height:5px\"></tr>\n",
      "                <tr class='athing' id='34394024'>\n",
      "      <td align=\"right\" valign=\"top\" class=\"title\"><span class=\"rank\">14.</span></td>      <td valign=\"top\" class=\"votelinks\"><center><a id='up_34394024'href='vote?id=34394024&amp;how=up&amp;goto=news'><div class='votearrow' title='upvote'></div></a></center></td><td class=\"title\"><span class=\"titleline\"><a href=\"https://ieeexplore.ieee.org/document/9994260\">A Human-Centered Approach to Developer Productivity</a><span class=\"sitebit comhead\"> (<a href=\"from?site=ieee.org\"><span class=\"sitestr\">ieee.org</span></a>)</span></span></td></tr><tr><td colspan=\"2\"></td><td class=\"subtext\"><span class=\"subline\">\n",
      "          <span class=\"score\" id=\"score_34394024\">17 points</span> by <a href=\"user?id=tchalla\" class=\"hnuser\">tchalla</a> <span class=\"age\" title=\"2023-01-15T22:02:07\"><a href=\"item?id=34394024\">2 hours ago</a></span> <span id=\"unv_34394024\"></span> | <a href=\"hide?id=34394024&amp;goto=news\">hide</a> | <a href=\"item?id=34394024\">4&nbsp;comments</a>        </span>\n",
      "              </td></tr>\n",
      "      <tr class=\"spacer\" style=\"height:5px\"></tr>\n",
      "                <tr class='athing' id='34416467'>\n",
      "      <td align=\"right\" valign=\"top\" class=\"title\"><span class=\"rank\">15.</span></td>      <td valign=\"top\" class=\"votelinks\"><center><a id='up_34416467'href='vote?id=34416467&amp;how=up&amp;goto=news'><div class='votearrow' title='upvote'></div></a></center></td><td class=\"title\"><span class=\"titleline\"><a href=\"https://www.jeremiak.com/blog/datasette-the-data-hammer/\">Datasette is my data hammer</a><span class=\"sitebit comhead\"> (<a href=\"from?site=jeremiak.com\"><span class=\"sitestr\">jeremiak.com</span></a>)</span></span></td></tr><tr><td colspan=\"2\"></td><td class=\"subtext\"><span class=\"subline\">\n",
      "          <span class=\"score\" id=\"score_34416467\">192 points</span> by <a href=\"user?id=Tomte\" class=\"hnuser\">Tomte</a> <span class=\"age\" title=\"2023-01-17T18:27:34\"><a href=\"item?id=34416467\">11 hours ago</a></span> <span id=\"unv_34416467\"></span> | <a href=\"hide?id=34416467&amp;goto=news\">hide</a> | <a href=\"item?id=34416467\">48&nbsp;comments</a>        </span>\n",
      "              </td></tr>\n",
      "      <tr class=\"spacer\" style=\"height:5px\"></tr>\n",
      "                <tr class='athing' id='34426735'>\n",
      "      <td align=\"right\" valign=\"top\" class=\"title\"><span class=\"rank\">16.</span></td>      <td valign=\"top\" class=\"votelinks\"><center><a id='up_34426735'href='vote?id=34426735&amp;how=up&amp;goto=news'><div class='votearrow' title='upvote'></div></a></center></td><td class=\"title\"><span class=\"titleline\"><a href=\"https://www.apple.com/homepod-2nd-generation/\">Apple HomePod 2nd Generation</a><span class=\"sitebit comhead\"> (<a href=\"from?site=apple.com\"><span class=\"sitestr\">apple.com</span></a>)</span></span></td></tr><tr><td colspan=\"2\"></td><td class=\"subtext\"><span class=\"subline\">\n",
      "          <span class=\"score\" id=\"score_34426735\">69 points</span> by <a href=\"user?id=HatchedLake721\" class=\"hnuser\">HatchedLake721</a> <span class=\"age\" title=\"2023-01-18T14:10:14\"><a href=\"item?id=34426735\">48 minutes ago</a></span> <span id=\"unv_34426735\"></span> | <a href=\"hide?id=34426735&amp;goto=news\">hide</a> | <a href=\"item?id=34426735\">76&nbsp;comments</a>        </span>\n",
      "              </td></tr>\n",
      "      <tr class=\"spacer\" style=\"height:5px\"></tr>\n",
      "                <tr class='athing' id='34423395'>\n",
      "      <td align=\"right\" valign=\"top\" class=\"title\"><span class=\"rank\">17.</span></td>      <td valign=\"top\" class=\"votelinks\"><center><a id='up_34423395'href='vote?id=34423395&amp;how=up&amp;goto=news'><div class='votearrow' title='upvote'></div></a></center></td><td class=\"title\"><span class=\"titleline\"><a href=\"https://arxiv.org/abs/2301.00250\">DensePose from WiFi</a><span class=\"sitebit comhead\"> (<a href=\"from?site=arxiv.org\"><span class=\"sitestr\">arxiv.org</span></a>)</span></span></td></tr><tr><td colspan=\"2\"></td><td class=\"subtext\"><span class=\"subline\">\n",
      "          <span class=\"score\" id=\"score_34423395\">122 points</span> by <a href=\"user?id=deverton\" class=\"hnuser\">deverton</a> <span class=\"age\" title=\"2023-01-18T04:20:43\"><a href=\"item?id=34423395\">10 hours ago</a></span> <span id=\"unv_34423395\"></span> | <a href=\"hide?id=34423395&amp;goto=news\">hide</a> | <a href=\"item?id=34423395\">28&nbsp;comments</a>        </span>\n",
      "              </td></tr>\n",
      "      <tr class=\"spacer\" style=\"height:5px\"></tr>\n",
      "                <tr class='athing' id='34426745'>\n",
      "      <td align=\"right\" valign=\"top\" class=\"title\"><span class=\"rank\">18.</span></td>      <td valign=\"top\" class=\"votelinks\"><center><a id='up_34426745'href='vote?id=34426745&amp;how=up&amp;goto=news'><div class='votearrow' title='upvote'></div></a></center></td><td class=\"title\"><span class=\"titleline\"><a href=\"https://lwn.net/SubscriberLink/919940/0df8e6f5ecfb284c/\" rel=\"nofollow\">Fedora&#x27;s Tempest in a Stack Frame</a><span class=\"sitebit comhead\"> (<a href=\"from?site=lwn.net\"><span class=\"sitestr\">lwn.net</span></a>)</span></span></td></tr><tr><td colspan=\"2\"></td><td class=\"subtext\"><span class=\"subline\">\n",
      "          <span class=\"score\" id=\"score_34426745\">5 points</span> by <a href=\"user?id=jwilk\" class=\"hnuser\">jwilk</a> <span class=\"age\" title=\"2023-01-18T14:11:03\"><a href=\"item?id=34426745\">47 minutes ago</a></span> <span id=\"unv_34426745\"></span> | <a href=\"hide?id=34426745&amp;goto=news\">hide</a> | <a href=\"item?id=34426745\">1&nbsp;comment</a>        </span>\n",
      "              </td></tr>\n",
      "      <tr class=\"spacer\" style=\"height:5px\"></tr>\n",
      "                <tr class='athing' id='34423557'>\n",
      "      <td align=\"right\" valign=\"top\" class=\"title\"><span class=\"rank\">19.</span></td>      <td valign=\"top\" class=\"votelinks\"><center><a id='up_34423557'href='vote?id=34423557&amp;how=up&amp;goto=news'><div class='votearrow' title='upvote'></div></a></center></td><td class=\"title\"><span class=\"titleline\"><a href=\"https://randomascii.wordpress.com/2023/01/17/no-start-menu-for-you/\">No Start Menu for You</a><span class=\"sitebit comhead\"> (<a href=\"from?site=randomascii.wordpress.com\"><span class=\"sitestr\">randomascii.wordpress.com</span></a>)</span></span></td></tr><tr><td colspan=\"2\"></td><td class=\"subtext\"><span class=\"subline\">\n",
      "          <span class=\"score\" id=\"score_34423557\">347 points</span> by <a href=\"user?id=jabagawee\" class=\"hnuser\">jabagawee</a> <span class=\"age\" title=\"2023-01-18T04:53:22\"><a href=\"item?id=34423557\">10 hours ago</a></span> <span id=\"unv_34423557\"></span> | <a href=\"hide?id=34423557&amp;goto=news\">hide</a> | <a href=\"item?id=34423557\">200&nbsp;comments</a>        </span>\n",
      "              </td></tr>\n",
      "      <tr class=\"spacer\" style=\"height:5px\"></tr>\n",
      "                <tr class='athing' id='34423590'>\n",
      "      <td align=\"right\" valign=\"top\" class=\"title\"><span class=\"rank\">20.</span></td>      <td valign=\"top\" class=\"votelinks\"><center><a id='up_34423590'href='vote?id=34423590&amp;how=up&amp;goto=news'><div class='votearrow' title='upvote'></div></a></center></td><td class=\"title\"><span class=\"titleline\"><a href=\"https://www.user.tu-berlin.de/laurmaedje/programmable-markup-language-for-typesetting.pdf\">Typst: A Programmable Markup Language for Typesetting [pdf]</a><span class=\"sitebit comhead\"> (<a href=\"from?site=tu-berlin.de\"><span class=\"sitestr\">tu-berlin.de</span></a>)</span></span></td></tr><tr><td colspan=\"2\"></td><td class=\"subtext\"><span class=\"subline\">\n",
      "          <span class=\"score\" id=\"score_34423590\">81 points</span> by <a href=\"user?id=kindaAnIdiot\" class=\"hnuser\">kindaAnIdiot</a> <span class=\"age\" title=\"2023-01-18T05:01:17\"><a href=\"item?id=34423590\">9 hours ago</a></span> <span id=\"unv_34423590\"></span> | <a href=\"hide?id=34423590&amp;goto=news\">hide</a> | <a href=\"item?id=34423590\">24&nbsp;comments</a>        </span>\n",
      "              </td></tr>\n",
      "      <tr class=\"spacer\" style=\"height:5px\"></tr>\n",
      "                <tr class='athing' id='34414527'>\n",
      "      <td align=\"right\" valign=\"top\" class=\"title\"><span class=\"rank\">21.</span></td>      <td valign=\"top\" class=\"votelinks\"><center><a id='up_34414527'href='vote?id=34414527&amp;how=up&amp;goto=news'><div class='votearrow' title='upvote'></div></a></center></td><td class=\"title\"><span class=\"titleline\"><a href=\"item?id=34414527\">Ask HN: Has anyone worked at the US National Labs before?</a></span></td></tr><tr><td colspan=\"2\"></td><td class=\"subtext\"><span class=\"subline\">\n",
      "          <span class=\"score\" id=\"score_34414527\">346 points</span> by <a href=\"user?id=science4sail\" class=\"hnuser\">science4sail</a> <span class=\"age\" title=\"2023-01-17T16:27:52\"><a href=\"item?id=34414527\">22 hours ago</a></span> <span id=\"unv_34414527\"></span> | <a href=\"hide?id=34414527&amp;goto=news\">hide</a> | <a href=\"item?id=34414527\">186&nbsp;comments</a>        </span>\n",
      "              </td></tr>\n",
      "      <tr class=\"spacer\" style=\"height:5px\"></tr>\n",
      "                <tr class='athing' id='34425503'>\n",
      "      <td align=\"right\" valign=\"top\" class=\"title\"><span class=\"rank\">22.</span></td>      <td valign=\"top\" class=\"votelinks\"><center><a id='up_34425503'href='vote?id=34425503&amp;how=up&amp;goto=news'><div class='votearrow' title='upvote'></div></a></center></td><td class=\"title\"><span class=\"titleline\"><a href=\"https://interestingengineering.com/transportation/us-startups-bladeless-vtol-can-reach-up-to-08-mach\">US startup&#x27;s bladeless VTOL can reach up to 0.8 Mach</a><span class=\"sitebit comhead\"> (<a href=\"from?site=interestingengineering.com\"><span class=\"sitestr\">interestingengineering.com</span></a>)</span></span></td></tr><tr><td colspan=\"2\"></td><td class=\"subtext\"><span class=\"subline\">\n",
      "          <span class=\"score\" id=\"score_34425503\">70 points</span> by <a href=\"user?id=rbanffy\" class=\"hnuser\">rbanffy</a> <span class=\"age\" title=\"2023-01-18T11:22:21\"><a href=\"item?id=34425503\">3 hours ago</a></span> <span id=\"unv_34425503\"></span> | <a href=\"hide?id=34425503&amp;goto=news\">hide</a> | <a href=\"item?id=34425503\">49&nbsp;comments</a>        </span>\n",
      "              </td></tr>\n",
      "      <tr class=\"spacer\" style=\"height:5px\"></tr>\n",
      "                <tr class='athing' id='34427143'>\n",
      "      <td align=\"right\" valign=\"top\" class=\"title\"><span class=\"rank\">23.</span></td>      <td valign=\"top\" class=\"votelinks\"><center><a id='up_34427143'href='vote?id=34427143&amp;how=up&amp;goto=news'><div class='votearrow' title='upvote'></div></a></center></td><td class=\"title\"><span class=\"titleline\"><a href=\"item?id=34427143\">Ask HN: What have you built more than twice and wish someone had built for you?</a></span></td></tr><tr><td colspan=\"2\"></td><td class=\"subtext\"><span class=\"subline\">\n",
      "          <span class=\"score\" id=\"score_34427143\">5 points</span> by <a href=\"user?id=andrezzoid\" class=\"hnuser\">andrezzoid</a> <span class=\"age\" title=\"2023-01-18T14:42:43\"><a href=\"item?id=34427143\">15 minutes ago</a></span> <span id=\"unv_34427143\"></span> | <a href=\"hide?id=34427143&amp;goto=news\">hide</a> | <a href=\"item?id=34427143\">1&nbsp;comment</a>        </span>\n",
      "              </td></tr>\n",
      "      <tr class=\"spacer\" style=\"height:5px\"></tr>\n",
      "                <tr class='athing' id='34423221'>\n",
      "      <td align=\"right\" valign=\"top\" class=\"title\"><span class=\"rank\">24.</span></td>      <td valign=\"top\" class=\"votelinks\"><center><a id='up_34423221'href='vote?id=34423221&amp;how=up&amp;goto=news'><div class='votearrow' title='upvote'></div></a></center></td><td class=\"title\"><span class=\"titleline\"><a href=\"https://github.com/ankane/polars-ruby\">Fast DataFrames for Ruby</a><span class=\"sitebit comhead\"> (<a href=\"from?site=github.com/ankane\"><span class=\"sitestr\">github.com/ankane</span></a>)</span></span></td></tr><tr><td colspan=\"2\"></td><td class=\"subtext\"><span class=\"subline\">\n",
      "          <span class=\"score\" id=\"score_34423221\">96 points</span> by <a href=\"user?id=aa_memon\" class=\"hnuser\">aa_memon</a> <span class=\"age\" title=\"2023-01-18T03:45:05\"><a href=\"item?id=34423221\">11 hours ago</a></span> <span id=\"unv_34423221\"></span> | <a href=\"hide?id=34423221&amp;goto=news\">hide</a> | <a href=\"item?id=34423221\">22&nbsp;comments</a>        </span>\n",
      "              </td></tr>\n",
      "      <tr class=\"spacer\" style=\"height:5px\"></tr>\n",
      "                <tr class='athing' id='34422760'>\n",
      "      <td align=\"right\" valign=\"top\" class=\"title\"><span class=\"rank\">25.</span></td>      <td valign=\"top\" class=\"votelinks\"><center><a id='up_34422760'href='vote?id=34422760&amp;how=up&amp;goto=news'><div class='votearrow' title='upvote'></div></a></center></td><td class=\"title\"><span class=\"titleline\"><a href=\"https://www.ethanheilman.com/x/28/index.html\">The terminal escape sequences ocean is deep and dark</a><span class=\"sitebit comhead\"> (<a href=\"from?site=ethanheilman.com\"><span class=\"sitestr\">ethanheilman.com</span></a>)</span></span></td></tr><tr><td colspan=\"2\"></td><td class=\"subtext\"><span class=\"subline\">\n",
      "          <span class=\"score\" id=\"score_34422760\">77 points</span> by <a href=\"user?id=EthanHeilman\" class=\"hnuser\">EthanHeilman</a> <span class=\"age\" title=\"2023-01-18T02:34:43\"><a href=\"item?id=34422760\">10 hours ago</a></span> <span id=\"unv_34422760\"></span> | <a href=\"hide?id=34422760&amp;goto=news\">hide</a> | <a href=\"item?id=34422760\">47&nbsp;comments</a>        </span>\n",
      "              </td></tr>\n",
      "      <tr class=\"spacer\" style=\"height:5px\"></tr>\n",
      "                <tr class='athing' id='34424470'>\n",
      "      <td align=\"right\" valign=\"top\" class=\"title\"><span class=\"rank\">26.</span></td>      <td valign=\"top\" class=\"votelinks\"><center><a id='up_34424470'href='vote?id=34424470&amp;how=up&amp;goto=news'><div class='votearrow' title='upvote'></div></a></center></td><td class=\"title\"><span class=\"titleline\"><a href=\"https://matt-rickard.com/screenshots-as-the-universal-api\">Screenshots as the Universal API</a><span class=\"sitebit comhead\"> (<a href=\"from?site=matt-rickard.com\"><span class=\"sitestr\">matt-rickard.com</span></a>)</span></span></td></tr><tr><td colspan=\"2\"></td><td class=\"subtext\"><span class=\"subline\">\n",
      "          <span class=\"score\" id=\"score_34424470\">70 points</span> by <a href=\"user?id=robinhouston\" class=\"hnuser\">robinhouston</a> <span class=\"age\" title=\"2023-01-18T08:06:15\"><a href=\"item?id=34424470\">6 hours ago</a></span> <span id=\"unv_34424470\"></span> | <a href=\"hide?id=34424470&amp;goto=news\">hide</a> | <a href=\"item?id=34424470\">61&nbsp;comments</a>        </span>\n",
      "              </td></tr>\n",
      "      <tr class=\"spacer\" style=\"height:5px\"></tr>\n",
      "                <tr class='athing' id='34422429'>\n",
      "      <td align=\"right\" valign=\"top\" class=\"title\"><span class=\"rank\">27.</span></td>      <td valign=\"top\" class=\"votelinks\"><center><a id='up_34422429'href='vote?id=34422429&amp;how=up&amp;goto=news'><div class='votearrow' title='upvote'></div></a></center></td><td class=\"title\"><span class=\"titleline\"><a href=\"https://judithcurry.com/2023/01/09/academics-and-the-grid-part-ii-are-they-studying-the-right-things/\">Academics and the grid. Are they studying the right things?</a><span class=\"sitebit comhead\"> (<a href=\"from?site=judithcurry.com\"><span class=\"sitestr\">judithcurry.com</span></a>)</span></span></td></tr><tr><td colspan=\"2\"></td><td class=\"subtext\"><span class=\"subline\">\n",
      "          <span class=\"score\" id=\"score_34422429\">19 points</span> by <a href=\"user?id=7402\" class=\"hnuser\">7402</a> <span class=\"age\" title=\"2023-01-18T01:51:03\"><a href=\"item?id=34422429\">4 hours ago</a></span> <span id=\"unv_34422429\"></span> | <a href=\"hide?id=34422429&amp;goto=news\">hide</a> | <a href=\"item?id=34422429\">24&nbsp;comments</a>        </span>\n",
      "              </td></tr>\n",
      "      <tr class=\"spacer\" style=\"height:5px\"></tr>\n",
      "                <tr class='athing' id='34410015'>\n",
      "      <td align=\"right\" valign=\"top\" class=\"title\"><span class=\"rank\">28.</span></td>      <td valign=\"top\" class=\"votelinks\"><center><a id='up_34410015'href='vote?id=34410015&amp;how=up&amp;goto=news'><div class='votearrow' title='upvote'></div></a></center></td><td class=\"title\"><span class=\"titleline\"><a href=\"https://emilymstark.com/2023/01/16/whats-the-right-ux-for-an-expired-certificate.html\">What&#x27;s the right UX for an expired certificate?</a><span class=\"sitebit comhead\"> (<a href=\"from?site=emilymstark.com\"><span class=\"sitestr\">emilymstark.com</span></a>)</span></span></td></tr><tr><td colspan=\"2\"></td><td class=\"subtext\"><span class=\"subline\">\n",
      "          <span class=\"score\" id=\"score_34410015\">42 points</span> by <a href=\"user?id=tomwas54\" class=\"hnuser\">tomwas54</a> <span class=\"age\" title=\"2023-01-17T07:30:18\"><a href=\"item?id=34410015\">8 hours ago</a></span> <span id=\"unv_34410015\"></span> | <a href=\"hide?id=34410015&amp;goto=news\">hide</a> | <a href=\"item?id=34410015\">72&nbsp;comments</a>        </span>\n",
      "              </td></tr>\n",
      "      <tr class=\"spacer\" style=\"height:5px\"></tr>\n",
      "                <tr class='athing' id='34387754'>\n",
      "      <td align=\"right\" valign=\"top\" class=\"title\"><span class=\"rank\">29.</span></td>      <td valign=\"top\" class=\"votelinks\"><center><a id='up_34387754'href='vote?id=34387754&amp;how=up&amp;goto=news'><div class='votearrow' title='upvote'></div></a></center></td><td class=\"title\"><span class=\"titleline\"><a href=\"https://stackingthebricks.com/how-blogs-broke-the-web/\">How the blog broke the web</a><span class=\"sitebit comhead\"> (<a href=\"from?site=stackingthebricks.com\"><span class=\"sitestr\">stackingthebricks.com</span></a>)</span></span></td></tr><tr><td colspan=\"2\"></td><td class=\"subtext\"><span class=\"subline\">\n",
      "          <span class=\"score\" id=\"score_34387754\">165 points</span> by <a href=\"user?id=sph\" class=\"hnuser\">sph</a> <span class=\"age\" title=\"2023-01-15T08:19:45\"><a href=\"item?id=34387754\">5 hours ago</a></span> <span id=\"unv_34387754\"></span> | <a href=\"hide?id=34387754&amp;goto=news\">hide</a> | <a href=\"item?id=34387754\">104&nbsp;comments</a>        </span>\n",
      "              </td></tr>\n",
      "      <tr class=\"spacer\" style=\"height:5px\"></tr>\n",
      "                <tr class='athing' id='34422948'>\n",
      "      <td align=\"right\" valign=\"top\" class=\"title\"><span class=\"rank\">30.</span></td>      <td valign=\"top\" class=\"votelinks\"><center><a id='up_34422948'href='vote?id=34422948&amp;how=up&amp;goto=news'><div class='votearrow' title='upvote'></div></a></center></td><td class=\"title\"><span class=\"titleline\"><a href=\"https://paveldogreat.github.io/WebGL-Fluid-Simulation/\">WebGL Fluid Simulation</a><span class=\"sitebit comhead\"> (<a href=\"from?site=paveldogreat.github.io\"><span class=\"sitestr\">paveldogreat.github.io</span></a>)</span></span></td></tr><tr><td colspan=\"2\"></td><td class=\"subtext\"><span class=\"subline\">\n",
      "          <span class=\"score\" id=\"score_34422948\">109 points</span> by <a href=\"user?id=ent101\" class=\"hnuser\">ent101</a> <span class=\"age\" title=\"2023-01-18T03:03:36\"><a href=\"item?id=34422948\">11 hours ago</a></span> <span id=\"unv_34422948\"></span> | <a href=\"hide?id=34422948&amp;goto=news\">hide</a> | <a href=\"item?id=34422948\">14&nbsp;comments</a>        </span>\n",
      "              </td></tr>\n",
      "      <tr class=\"spacer\" style=\"height:5px\"></tr>\n",
      "            <tr class=\"morespace\" style=\"height:10px\"></tr><tr><td colspan=\"2\"></td>\n",
      "      <td class='title'><a href='?p=2' class='morelink' rel='next'>More</a></td>    </tr>\n",
      "  </table>\n",
      "</td></tr>\n",
      "<tr><td><img src=\"s.gif\" height=\"10\" width=\"0\"><table width=\"100%\" cellspacing=\"0\" cellpadding=\"1\"><tr><td bgcolor=\"#ff6600\"></td></tr></table><br>\n",
      "<center><span class=\"yclinks\"><a href=\"newsguidelines.html\">Guidelines</a> | <a href=\"newsfaq.html\">FAQ</a> | <a href=\"lists\">Lists</a> | <a href=\"https://github.com/HackerNews/API\">API</a> | <a href=\"security.html\">Security</a> | <a href=\"https://www.ycombinator.com/legal/\">Legal</a> | <a href=\"https://www.ycombinator.com/apply/\">Apply to YC</a> | <a href=\"mailto:hn@ycombinator.com\">Contact</a></span><br><br>\n",
      "<form method=\"get\" action=\"//hn.algolia.com/\">Search: <input type=\"text\" name=\"q\" size=\"17\" autocorrect=\"off\" spellcheck=\"false\" autocapitalize=\"off\" autocomplete=\"false\"></form></center></td></tr>      </table></center></body>\n",
      "      <script type='text/javascript' src='hn.js?yLzyAtfHlZW2SsC79ET7'></script>\n",
      "  </html>\n",
      "\n"
     ]
    }
   ],
   "source": [
    "import requests\n",
    "\n",
    "# Fetch a web page\n",
    "r = requests.get(\"https://news.ycombinator.com\")\n",
    "print(r.text)"
   ]
  },
  {
   "cell_type": "code",
   "execution_count": 25,
   "metadata": {},
   "outputs": [
    {
     "name": "stdout",
     "output_type": "stream",
     "text": [
      "\n",
      "        \n",
      "          \n",
      "        Hacker News\n",
      "        \n",
      "                  Hacker News\n",
      "                            new | past | comments | ask | show | jobs | submit            \n",
      "                              login\n",
      "                          \n",
      "              \n",
      "\n",
      "            \n",
      "      1.      Thonny – Python IDE for beginners (thonny.org)\n",
      "          219 points by ankit70 5 hours ago  | hide | 49&nbsp;comments        \n",
      "              \n",
      "      \n",
      "                \n",
      "      2.      U-config – A new, lean pkg-config clone (nullprogram.com)\n",
      "          27 points by phoebos 1 hour ago  | hide | 18&nbsp;comments        \n",
      "              \n",
      "      \n",
      "                \n",
      "      3.      Hello, PNG (vidbuchanan.co.uk)\n",
      "          115 points by EntICOnc 4 hours ago  | hide | 71&nbsp;comments        \n",
      "              \n",
      "      \n",
      "                \n",
      "      4.      Cruel optimism and lazy pessimism (tegowerk.eu)\n",
      "          77 points by victorstanciu 4 hours ago  | hide | 39&nbsp;comments        \n",
      "              \n",
      "      \n",
      "                \n",
      "      5.      Source code for Dutch DigiD app released under Dutch Open Government Act (github.com/minbzk)\n",
      "          171 points by kf 3 hours ago  | hide | 99&nbsp;comments        \n",
      "              \n",
      "      \n",
      "                \n",
      "      6.      ReactOS (reactos.org)\n",
      "          55 points by giancarlostoro 1 hour ago  | hide | 18&nbsp;comments        \n",
      "              \n",
      "      \n",
      "                \n",
      "      7.      Loss of epigenetic information as a cause of mammalian aging (cell.com)\n",
      "          26 points by rdpfeffer 37 minutes ago  | hide | 5&nbsp;comments        \n",
      "              \n",
      "      \n",
      "                \n",
      "      8.      OpenAI Used Kenyan Workers on Less Than $2 per Hour to Make ChatGPT Less Toxic (time.com)\n",
      "          68 points by mkeeter 1 hour ago  | hide | 51&nbsp;comments        \n",
      "              \n",
      "      \n",
      "                \n",
      "      9.      LangChain: Build AI apps with LLMs through composability (github.com/hwchase17)\n",
      "          314 points by azhenley 12 hours ago  | hide | 60&nbsp;comments        \n",
      "              \n",
      "      \n",
      "                \n",
      "      10.      Restoring a Vintage Rolex GMT (youtube.com)\n",
      "          19 points by stevekemp 1 hour ago  | hide | 4&nbsp;comments        \n",
      "              \n",
      "      \n",
      "                \n",
      "      11.      Create optimal conditions for lucky things to happen to you (2020) (swyx.io)\n",
      "          130 points by alexzeitler 3 hours ago  | hide | 50&nbsp;comments        \n",
      "              \n",
      "      \n",
      "                \n",
      "      12.      Microsoft to lay off 10k workers (microsoft.com)\n",
      "          72 points by dola 22 minutes ago  | hide | 6&nbsp;comments        \n",
      "              \n",
      "      \n",
      "                \n",
      "      13.      `tar` creator&#x2F;extractor in ~100 lines of Prolog (github.com/superdisk)\n",
      "          4 points by superdisk 20 minutes ago  | hide | discuss        \n",
      "              \n",
      "      \n",
      "                \n",
      "      14.      A Human-Centered Approach to Developer Productivity (ieee.org)\n",
      "          17 points by tchalla 2 hours ago  | hide | 4&nbsp;comments        \n",
      "              \n",
      "      \n",
      "                \n",
      "      15.      Datasette is my data hammer (jeremiak.com)\n",
      "          192 points by Tomte 11 hours ago  | hide | 48&nbsp;comments        \n",
      "              \n",
      "      \n",
      "                \n",
      "      16.      Apple HomePod 2nd Generation (apple.com)\n",
      "          69 points by HatchedLake721 48 minutes ago  | hide | 76&nbsp;comments        \n",
      "              \n",
      "      \n",
      "                \n",
      "      17.      DensePose from WiFi (arxiv.org)\n",
      "          122 points by deverton 10 hours ago  | hide | 28&nbsp;comments        \n",
      "              \n",
      "      \n",
      "                \n",
      "      18.      Fedora&#x27;s Tempest in a Stack Frame (lwn.net)\n",
      "          5 points by jwilk 47 minutes ago  | hide | 1&nbsp;comment        \n",
      "              \n",
      "      \n",
      "                \n",
      "      19.      No Start Menu for You (randomascii.wordpress.com)\n",
      "          347 points by jabagawee 10 hours ago  | hide | 200&nbsp;comments        \n",
      "              \n",
      "      \n",
      "                \n",
      "      20.      Typst: A Programmable Markup Language for Typesetting [pdf] (tu-berlin.de)\n",
      "          81 points by kindaAnIdiot 9 hours ago  | hide | 24&nbsp;comments        \n",
      "              \n",
      "      \n",
      "                \n",
      "      21.      Ask HN: Has anyone worked at the US National Labs before?\n",
      "          346 points by science4sail 22 hours ago  | hide | 186&nbsp;comments        \n",
      "              \n",
      "      \n",
      "                \n",
      "      22.      US startup&#x27;s bladeless VTOL can reach up to 0.8 Mach (interestingengineering.com)\n",
      "          70 points by rbanffy 3 hours ago  | hide | 49&nbsp;comments        \n",
      "              \n",
      "      \n",
      "                \n",
      "      23.      Ask HN: What have you built more than twice and wish someone had built for you?\n",
      "          5 points by andrezzoid 15 minutes ago  | hide | 1&nbsp;comment        \n",
      "              \n",
      "      \n",
      "                \n",
      "      24.      Fast DataFrames for Ruby (github.com/ankane)\n",
      "          96 points by aa_memon 11 hours ago  | hide | 22&nbsp;comments        \n",
      "              \n",
      "      \n",
      "                \n",
      "      25.      The terminal escape sequences ocean is deep and dark (ethanheilman.com)\n",
      "          77 points by EthanHeilman 10 hours ago  | hide | 47&nbsp;comments        \n",
      "              \n",
      "      \n",
      "                \n",
      "      26.      Screenshots as the Universal API (matt-rickard.com)\n",
      "          70 points by robinhouston 6 hours ago  | hide | 61&nbsp;comments        \n",
      "              \n",
      "      \n",
      "                \n",
      "      27.      Academics and the grid. Are they studying the right things? (judithcurry.com)\n",
      "          19 points by 7402 4 hours ago  | hide | 24&nbsp;comments        \n",
      "              \n",
      "      \n",
      "                \n",
      "      28.      What&#x27;s the right UX for an expired certificate? (emilymstark.com)\n",
      "          42 points by tomwas54 8 hours ago  | hide | 72&nbsp;comments        \n",
      "              \n",
      "      \n",
      "                \n",
      "      29.      How the blog broke the web (stackingthebricks.com)\n",
      "          165 points by sph 5 hours ago  | hide | 104&nbsp;comments        \n",
      "              \n",
      "      \n",
      "                \n",
      "      30.      WebGL Fluid Simulation (paveldogreat.github.io)\n",
      "          109 points by ent101 11 hours ago  | hide | 14&nbsp;comments        \n",
      "              \n",
      "      \n",
      "            \n",
      "      More    \n",
      "  \n",
      "\n",
      "\n",
      "Guidelines | FAQ | Lists | API | Security | Legal | Apply to YC | Contact\n",
      "Search:       \n",
      "      \n",
      "  \n",
      "\n"
     ]
    }
   ],
   "source": [
    "import re\n",
    "\n",
    "# Remove HTML tags using RegEx\n",
    "pattern = re.compile(r'<.*?>')  # tags look like <...>\n",
    "print(pattern.sub('', r.text))  # replace them with blank"
   ]
  },
  {
   "cell_type": "code",
   "execution_count": 26,
   "metadata": {},
   "outputs": [
    {
     "name": "stdout",
     "output_type": "stream",
     "text": [
      "\n",
      "        \n",
      "          \n",
      "        Hacker News\n",
      "        \n",
      "                  Hacker News\n",
      "                            new | past | comments | ask | show | jobs | submit            \n",
      "                              login\n",
      "                          \n",
      "              \n",
      "\n",
      "            \n",
      "      1.      Thonny – Python IDE for beginners (thonny.org)\n",
      "          219 points by ankit70 5 hours ago  | hide | 49 comments        \n",
      "              \n",
      "      \n",
      "                \n",
      "      2.      U-config – A new, lean pkg-config clone (nullprogram.com)\n",
      "          27 points by phoebos 1 hour ago  | hide | 18 comments        \n",
      "              \n",
      "      \n",
      "                \n",
      "      3.      Hello, PNG (vidbuchanan.co.uk)\n",
      "          115 points by EntICOnc 4 hours ago  | hide | 71 comments        \n",
      "              \n",
      "      \n",
      "                \n",
      "      4.      Cruel optimism and lazy pessimism (tegowerk.eu)\n",
      "          77 points by victorstanciu 4 hours ago  | hide | 39 comments        \n",
      "              \n",
      "      \n",
      "                \n",
      "      5.      Source code for Dutch DigiD app released under Dutch Open Government Act (github.com/minbzk)\n",
      "          171 points by kf 3 hours ago  | hide | 99 comments        \n",
      "              \n",
      "      \n",
      "                \n",
      "      6.      ReactOS (reactos.org)\n",
      "          55 points by giancarlostoro 1 hour ago  | hide | 18 comments        \n",
      "              \n",
      "      \n",
      "                \n",
      "      7.      Loss of epigenetic information as a cause of mammalian aging (cell.com)\n",
      "          26 points by rdpfeffer 37 minutes ago  | hide | 5 comments        \n",
      "              \n",
      "      \n",
      "                \n",
      "      8.      OpenAI Used Kenyan Workers on Less Than $2 per Hour to Make ChatGPT Less Toxic (time.com)\n",
      "          68 points by mkeeter 1 hour ago  | hide | 51 comments        \n",
      "              \n",
      "      \n",
      "                \n",
      "      9.      LangChain: Build AI apps with LLMs through composability (github.com/hwchase17)\n",
      "          314 points by azhenley 12 hours ago  | hide | 60 comments        \n",
      "              \n",
      "      \n",
      "                \n",
      "      10.      Restoring a Vintage Rolex GMT (youtube.com)\n",
      "          19 points by stevekemp 1 hour ago  | hide | 4 comments        \n",
      "              \n",
      "      \n",
      "                \n",
      "      11.      Create optimal conditions for lucky things to happen to you (2020) (swyx.io)\n",
      "          130 points by alexzeitler 3 hours ago  | hide | 50 comments        \n",
      "              \n",
      "      \n",
      "                \n",
      "      12.      Microsoft to lay off 10k workers (microsoft.com)\n",
      "          72 points by dola 22 minutes ago  | hide | 6 comments        \n",
      "              \n",
      "      \n",
      "                \n",
      "      13.      `tar` creator/extractor in ~100 lines of Prolog (github.com/superdisk)\n",
      "          4 points by superdisk 20 minutes ago  | hide | discuss        \n",
      "              \n",
      "      \n",
      "                \n",
      "      14.      A Human-Centered Approach to Developer Productivity (ieee.org)\n",
      "          17 points by tchalla 2 hours ago  | hide | 4 comments        \n",
      "              \n",
      "      \n",
      "                \n",
      "      15.      Datasette is my data hammer (jeremiak.com)\n",
      "          192 points by Tomte 11 hours ago  | hide | 48 comments        \n",
      "              \n",
      "      \n",
      "                \n",
      "      16.      Apple HomePod 2nd Generation (apple.com)\n",
      "          69 points by HatchedLake721 48 minutes ago  | hide | 76 comments        \n",
      "              \n",
      "      \n",
      "                \n",
      "      17.      DensePose from WiFi (arxiv.org)\n",
      "          122 points by deverton 10 hours ago  | hide | 28 comments        \n",
      "              \n",
      "      \n",
      "                \n",
      "      18.      Fedora's Tempest in a Stack Frame (lwn.net)\n",
      "          5 points by jwilk 47 minutes ago  | hide | 1 comment        \n",
      "              \n",
      "      \n",
      "                \n",
      "      19.      No Start Menu for You (randomascii.wordpress.com)\n",
      "          347 points by jabagawee 10 hours ago  | hide | 200 comments        \n",
      "              \n",
      "      \n",
      "                \n",
      "      20.      Typst: A Programmable Markup Language for Typesetting [pdf] (tu-berlin.de)\n",
      "          81 points by kindaAnIdiot 9 hours ago  | hide | 24 comments        \n",
      "              \n",
      "      \n",
      "                \n",
      "      21.      Ask HN: Has anyone worked at the US National Labs before?\n",
      "          346 points by science4sail 22 hours ago  | hide | 186 comments        \n",
      "              \n",
      "      \n",
      "                \n",
      "      22.      US startup's bladeless VTOL can reach up to 0.8 Mach (interestingengineering.com)\n",
      "          70 points by rbanffy 3 hours ago  | hide | 49 comments        \n",
      "              \n",
      "      \n",
      "                \n",
      "      23.      Ask HN: What have you built more than twice and wish someone had built for you?\n",
      "          5 points by andrezzoid 15 minutes ago  | hide | 1 comment        \n",
      "              \n",
      "      \n",
      "                \n",
      "      24.      Fast DataFrames for Ruby (github.com/ankane)\n",
      "          96 points by aa_memon 11 hours ago  | hide | 22 comments        \n",
      "              \n",
      "      \n",
      "                \n",
      "      25.      The terminal escape sequences ocean is deep and dark (ethanheilman.com)\n",
      "          77 points by EthanHeilman 10 hours ago  | hide | 47 comments        \n",
      "              \n",
      "      \n",
      "                \n",
      "      26.      Screenshots as the Universal API (matt-rickard.com)\n",
      "          70 points by robinhouston 6 hours ago  | hide | 61 comments        \n",
      "              \n",
      "      \n",
      "                \n",
      "      27.      Academics and the grid. Are they studying the right things? (judithcurry.com)\n",
      "          19 points by 7402 4 hours ago  | hide | 24 comments        \n",
      "              \n",
      "      \n",
      "                \n",
      "      28.      What's the right UX for an expired certificate? (emilymstark.com)\n",
      "          42 points by tomwas54 8 hours ago  | hide | 72 comments        \n",
      "              \n",
      "      \n",
      "                \n",
      "      29.      How the blog broke the web (stackingthebricks.com)\n",
      "          165 points by sph 5 hours ago  | hide | 104 comments        \n",
      "              \n",
      "      \n",
      "                \n",
      "      30.      WebGL Fluid Simulation (paveldogreat.github.io)\n",
      "          109 points by ent101 11 hours ago  | hide | 14 comments        \n",
      "              \n",
      "      \n",
      "            \n",
      "      More    \n",
      "  \n",
      "\n",
      "\n",
      "Guidelines | FAQ | Lists | API | Security | Legal | Apply to YC | Contact\n",
      "Search:       \n",
      "      \n",
      "  \n",
      "\n"
     ]
    }
   ],
   "source": [
    "from bs4 import BeautifulSoup\n",
    "\n",
    "# Remove HTML tags using Beautiful Soup library\n",
    "soup = BeautifulSoup(r.text, \"html5lib\")\n",
    "print(soup.get_text())"
   ]
  },
  {
   "cell_type": "code",
   "execution_count": 27,
   "metadata": {
    "scrolled": true
   },
   "outputs": [
    {
     "data": {
      "text/plain": [
       "<tr class=\"athing\" id=\"34424854\">\n",
       "      <td align=\"right\" class=\"title\" valign=\"top\"><span class=\"rank\">1.</span></td>      <td class=\"votelinks\" valign=\"top\"><center><a href=\"vote?id=34424854&amp;how=up&amp;goto=news\" id=\"up_34424854\"><div class=\"votearrow\" title=\"upvote\"></div></a></center></td><td class=\"title\"><span class=\"titleline\"><a href=\"https://thonny.org\">Thonny – Python IDE for beginners</a><span class=\"sitebit comhead\"> (<a href=\"from?site=thonny.org\"><span class=\"sitestr\">thonny.org</span></a>)</span></span></td></tr>"
      ]
     },
     "execution_count": 27,
     "metadata": {},
     "output_type": "execute_result"
    }
   ],
   "source": [
    "# Find all articles\n",
    "summaries = soup.find_all(\"tr\", class_=\"athing\")\n",
    "summaries[0]"
   ]
  },
  {
   "cell_type": "code",
   "execution_count": 32,
   "metadata": {},
   "outputs": [
    {
     "data": {
      "text/plain": [
       "<tr class=\"athing\" id=\"34426430\">\n",
       "      <td align=\"right\" class=\"title\" valign=\"top\"><span class=\"rank\">2.</span></td>      <td class=\"votelinks\" valign=\"top\"><center><a href=\"vote?id=34426430&amp;how=up&amp;goto=news\" id=\"up_34426430\"><div class=\"votearrow\" title=\"upvote\"></div></a></center></td><td class=\"title\"><span class=\"titleline\"><a href=\"https://nullprogram.com/blog/2023/01/18/\">U-config – A new, lean pkg-config clone</a><span class=\"sitebit comhead\"> (<a href=\"from?site=nullprogram.com\"><span class=\"sitestr\">nullprogram.com</span></a>)</span></span></td></tr>"
      ]
     },
     "execution_count": 32,
     "metadata": {},
     "output_type": "execute_result"
    }
   ],
   "source": [
    "summaries[1]"
   ]
  },
  {
   "cell_type": "code",
   "execution_count": 28,
   "metadata": {},
   "outputs": [
    {
     "ename": "AttributeError",
     "evalue": "'NoneType' object has no attribute 'get_text'",
     "output_type": "error",
     "traceback": [
      "\u001b[1;31m---------------------------------------------------------------------------\u001b[0m",
      "\u001b[1;31mAttributeError\u001b[0m                            Traceback (most recent call last)",
      "\u001b[1;32m<ipython-input-28-4d86930d6e3a>\u001b[0m in \u001b[0;36m<module>\u001b[1;34m\u001b[0m\n\u001b[0;32m      1\u001b[0m \u001b[1;31m# Extract title\u001b[0m\u001b[1;33m\u001b[0m\u001b[1;33m\u001b[0m\u001b[1;33m\u001b[0m\u001b[0m\n\u001b[1;32m----> 2\u001b[1;33m \u001b[0msummaries\u001b[0m\u001b[1;33m[\u001b[0m\u001b[1;36m0\u001b[0m\u001b[1;33m]\u001b[0m\u001b[1;33m.\u001b[0m\u001b[0mfind\u001b[0m\u001b[1;33m(\u001b[0m\u001b[1;34m\"a\"\u001b[0m\u001b[1;33m,\u001b[0m \u001b[0mclass_\u001b[0m\u001b[1;33m=\u001b[0m\u001b[1;34m\"titlelink\"\u001b[0m\u001b[1;33m)\u001b[0m\u001b[1;33m.\u001b[0m\u001b[0mget_text\u001b[0m\u001b[1;33m(\u001b[0m\u001b[1;33m)\u001b[0m\u001b[1;33m.\u001b[0m\u001b[0mstrip\u001b[0m\u001b[1;33m(\u001b[0m\u001b[1;33m)\u001b[0m\u001b[1;33m\u001b[0m\u001b[1;33m\u001b[0m\u001b[0m\n\u001b[0m",
      "\u001b[1;31mAttributeError\u001b[0m: 'NoneType' object has no attribute 'get_text'"
     ]
    }
   ],
   "source": [
    "# Extract title\n",
    "summaries[0].find(\"a\", class_=\"titlelink\").get_text().strip()"
   ]
  },
  {
   "cell_type": "code",
   "execution_count": 29,
   "metadata": {},
   "outputs": [
    {
     "ename": "AttributeError",
     "evalue": "'NoneType' object has no attribute 'get_text'",
     "output_type": "error",
     "traceback": [
      "\u001b[1;31m---------------------------------------------------------------------------\u001b[0m",
      "\u001b[1;31mAttributeError\u001b[0m                            Traceback (most recent call last)",
      "\u001b[1;32m<ipython-input-29-47e78fa6ff1c>\u001b[0m in \u001b[0;36m<module>\u001b[1;34m\u001b[0m\n\u001b[0;32m      3\u001b[0m \u001b[0msummaries\u001b[0m \u001b[1;33m=\u001b[0m \u001b[0msoup\u001b[0m\u001b[1;33m.\u001b[0m\u001b[0mfind_all\u001b[0m\u001b[1;33m(\u001b[0m\u001b[1;34m\"tr\"\u001b[0m\u001b[1;33m,\u001b[0m \u001b[0mclass_\u001b[0m\u001b[1;33m=\u001b[0m\u001b[1;34m\"athing\"\u001b[0m\u001b[1;33m)\u001b[0m\u001b[1;33m\u001b[0m\u001b[1;33m\u001b[0m\u001b[0m\n\u001b[0;32m      4\u001b[0m \u001b[1;32mfor\u001b[0m \u001b[0msummary\u001b[0m \u001b[1;32min\u001b[0m \u001b[0msummaries\u001b[0m\u001b[1;33m:\u001b[0m\u001b[1;33m\u001b[0m\u001b[1;33m\u001b[0m\u001b[0m\n\u001b[1;32m----> 5\u001b[1;33m     \u001b[0mtitle\u001b[0m \u001b[1;33m=\u001b[0m \u001b[0msummary\u001b[0m\u001b[1;33m.\u001b[0m\u001b[0mfind\u001b[0m\u001b[1;33m(\u001b[0m\u001b[1;34m\"a\"\u001b[0m\u001b[1;33m,\u001b[0m \u001b[0mclass_\u001b[0m\u001b[1;33m=\u001b[0m\u001b[1;34m\"titlelink\"\u001b[0m\u001b[1;33m)\u001b[0m\u001b[1;33m.\u001b[0m\u001b[0mget_text\u001b[0m\u001b[1;33m(\u001b[0m\u001b[1;33m)\u001b[0m\u001b[1;33m.\u001b[0m\u001b[0mstrip\u001b[0m\u001b[1;33m(\u001b[0m\u001b[1;33m)\u001b[0m\u001b[1;33m\u001b[0m\u001b[1;33m\u001b[0m\u001b[0m\n\u001b[0m\u001b[0;32m      6\u001b[0m     \u001b[0marticles\u001b[0m\u001b[1;33m.\u001b[0m\u001b[0mappend\u001b[0m\u001b[1;33m(\u001b[0m\u001b[1;33m(\u001b[0m\u001b[0mtitle\u001b[0m\u001b[1;33m)\u001b[0m\u001b[1;33m)\u001b[0m\u001b[1;33m\u001b[0m\u001b[1;33m\u001b[0m\u001b[0m\n\u001b[0;32m      7\u001b[0m \u001b[1;33m\u001b[0m\u001b[0m\n",
      "\u001b[1;31mAttributeError\u001b[0m: 'NoneType' object has no attribute 'get_text'"
     ]
    }
   ],
   "source": [
    "# Find all articles, extract titles\n",
    "articles = []\n",
    "summaries = soup.find_all(\"tr\", class_=\"athing\")\n",
    "for summary in summaries:\n",
    "    title = summary.find(\"a\", class_=\"titlelink\").get_text().strip()\n",
    "    articles.append((title))\n",
    "\n",
    "print(len(articles), \"Article summaries found. Sample:\")\n",
    "print(articles[0])"
   ]
  },
  {
   "cell_type": "markdown",
   "metadata": {
    "collapsed": true
   },
   "source": [
    "## Normalization"
   ]
  },
  {
   "cell_type": "markdown",
   "metadata": {},
   "source": [
    "### Case Normalization"
   ]
  },
  {
   "cell_type": "code",
   "execution_count": 33,
   "metadata": {},
   "outputs": [
    {
     "name": "stdout",
     "output_type": "stream",
     "text": [
      "The first time you see The Second Renaissance it may look boring. Look at it at least twice and definitely watch part 2. It will change your view of the matrix. Are the human people the ones who started the war ? Is AI a bad thing ?\n"
     ]
    }
   ],
   "source": [
    "# Sample text\n",
    "text = \"The first time you see The Second Renaissance it may look boring. Look at it at least twice and definitely watch part 2. It will change your view of the matrix. Are the human people the ones who started the war ? Is AI a bad thing ?\"\n",
    "print(text)"
   ]
  },
  {
   "cell_type": "code",
   "execution_count": 34,
   "metadata": {},
   "outputs": [
    {
     "name": "stdout",
     "output_type": "stream",
     "text": [
      "the first time you see the second renaissance it may look boring. look at it at least twice and definitely watch part 2. it will change your view of the matrix. are the human people the ones who started the war ? is ai a bad thing ?\n"
     ]
    }
   ],
   "source": [
    "# Convert to lowercase\n",
    "text = text.lower() \n",
    "print(text)"
   ]
  },
  {
   "cell_type": "markdown",
   "metadata": {},
   "source": [
    "### Punctuation Removal"
   ]
  },
  {
   "cell_type": "code",
   "execution_count": 35,
   "metadata": {},
   "outputs": [
    {
     "name": "stdout",
     "output_type": "stream",
     "text": [
      "the first time you see the second renaissance it may look boring  look at it at least twice and definitely watch part 2  it will change your view of the matrix  are the human people the ones who started the war   is ai a bad thing  \n"
     ]
    }
   ],
   "source": [
    "import re\n",
    "\n",
    "# Remove punctuation characters\n",
    "text = re.sub(r\"[^a-zA-Z0-9]\", \" \", text) \n",
    "print(text)"
   ]
  },
  {
   "cell_type": "markdown",
   "metadata": {},
   "source": [
    "## Tokenization"
   ]
  },
  {
   "cell_type": "code",
   "execution_count": 36,
   "metadata": {},
   "outputs": [
    {
     "name": "stdout",
     "output_type": "stream",
     "text": [
      "['the', 'first', 'time', 'you', 'see', 'the', 'second', 'renaissance', 'it', 'may', 'look', 'boring', 'look', 'at', 'it', 'at', 'least', 'twice', 'and', 'definitely', 'watch', 'part', '2', 'it', 'will', 'change', 'your', 'view', 'of', 'the', 'matrix', 'are', 'the', 'human', 'people', 'the', 'ones', 'who', 'started', 'the', 'war', 'is', 'ai', 'a', 'bad', 'thing']\n"
     ]
    }
   ],
   "source": [
    "# Split text into tokens (words)\n",
    "words = text.split()\n",
    "print(words)"
   ]
  },
  {
   "cell_type": "markdown",
   "metadata": {},
   "source": [
    "### NLTK: Natural Language ToolKit"
   ]
  },
  {
   "cell_type": "code",
   "execution_count": 37,
   "metadata": {},
   "outputs": [],
   "source": [
    "import os\n",
    "import nltk\n",
    "nltk.data.path.append(os.path.join(os.getcwd(), \"nltk_data\"))"
   ]
  },
  {
   "cell_type": "code",
   "execution_count": 38,
   "metadata": {},
   "outputs": [
    {
     "name": "stdout",
     "output_type": "stream",
     "text": [
      "Dr. Smith graduated from the University of Washington. He later started an analytics firm called Lux, which catered to enterprise customers.\n"
     ]
    }
   ],
   "source": [
    "# Another sample text\n",
    "text = \"Dr. Smith graduated from the University of Washington. He later started an analytics firm called Lux, which catered to enterprise customers.\"\n",
    "print(text)"
   ]
  },
  {
   "cell_type": "code",
   "execution_count": 39,
   "metadata": {},
   "outputs": [
    {
     "name": "stdout",
     "output_type": "stream",
     "text": [
      "['Dr.', 'Smith', 'graduated', 'from', 'the', 'University', 'of', 'Washington', '.', 'He', 'later', 'started', 'an', 'analytics', 'firm', 'called', 'Lux', ',', 'which', 'catered', 'to', 'enterprise', 'customers', '.']\n"
     ]
    }
   ],
   "source": [
    "from nltk.tokenize import word_tokenize\n",
    "\n",
    "# Split text into words using NLTK\n",
    "words = word_tokenize(text)\n",
    "print(words)"
   ]
  },
  {
   "cell_type": "code",
   "execution_count": 40,
   "metadata": {},
   "outputs": [
    {
     "name": "stdout",
     "output_type": "stream",
     "text": [
      "['Dr. Smith graduated from the University of Washington.', 'He later started an analytics firm called Lux, which catered to enterprise customers.']\n"
     ]
    }
   ],
   "source": [
    "from nltk.tokenize import sent_tokenize\n",
    "\n",
    "# Split text into sentences\n",
    "sentences = sent_tokenize(text)\n",
    "print(sentences)"
   ]
  },
  {
   "cell_type": "code",
   "execution_count": 41,
   "metadata": {},
   "outputs": [
    {
     "name": "stdout",
     "output_type": "stream",
     "text": [
      "['i', 'me', 'my', 'myself', 'we', 'our', 'ours', 'ourselves', 'you', \"you're\", \"you've\", \"you'll\", \"you'd\", 'your', 'yours', 'yourself', 'yourselves', 'he', 'him', 'his', 'himself', 'she', \"she's\", 'her', 'hers', 'herself', 'it', \"it's\", 'its', 'itself', 'they', 'them', 'their', 'theirs', 'themselves', 'what', 'which', 'who', 'whom', 'this', 'that', \"that'll\", 'these', 'those', 'am', 'is', 'are', 'was', 'were', 'be', 'been', 'being', 'have', 'has', 'had', 'having', 'do', 'does', 'did', 'doing', 'a', 'an', 'the', 'and', 'but', 'if', 'or', 'because', 'as', 'until', 'while', 'of', 'at', 'by', 'for', 'with', 'about', 'against', 'between', 'into', 'through', 'during', 'before', 'after', 'above', 'below', 'to', 'from', 'up', 'down', 'in', 'out', 'on', 'off', 'over', 'under', 'again', 'further', 'then', 'once', 'here', 'there', 'when', 'where', 'why', 'how', 'all', 'any', 'both', 'each', 'few', 'more', 'most', 'other', 'some', 'such', 'no', 'nor', 'not', 'only', 'own', 'same', 'so', 'than', 'too', 'very', 's', 't', 'can', 'will', 'just', 'don', \"don't\", 'should', \"should've\", 'now', 'd', 'll', 'm', 'o', 're', 've', 'y', 'ain', 'aren', \"aren't\", 'couldn', \"couldn't\", 'didn', \"didn't\", 'doesn', \"doesn't\", 'hadn', \"hadn't\", 'hasn', \"hasn't\", 'haven', \"haven't\", 'isn', \"isn't\", 'ma', 'mightn', \"mightn't\", 'mustn', \"mustn't\", 'needn', \"needn't\", 'shan', \"shan't\", 'shouldn', \"shouldn't\", 'wasn', \"wasn't\", 'weren', \"weren't\", 'won', \"won't\", 'wouldn', \"wouldn't\"]\n"
     ]
    }
   ],
   "source": [
    "# List stop words\n",
    "from nltk.corpus import stopwords\n",
    "print(stopwords.words(\"english\"))"
   ]
  },
  {
   "cell_type": "code",
   "execution_count": 42,
   "metadata": {},
   "outputs": [
    {
     "name": "stdout",
     "output_type": "stream",
     "text": [
      "['the', 'first', 'time', 'you', 'see', 'the', 'second', 'renaissance', 'it', 'may', 'look', 'boring', 'look', 'at', 'it', 'at', 'least', 'twice', 'and', 'definitely', 'watch', 'part', '2', 'it', 'will', 'change', 'your', 'view', 'of', 'the', 'matrix', 'are', 'the', 'human', 'people', 'the', 'ones', 'who', 'started', 'the', 'war', 'is', 'ai', 'a', 'bad', 'thing']\n"
     ]
    }
   ],
   "source": [
    "# Reset text\n",
    "text = \"The first time you see The Second Renaissance it may look boring. Look at it at least twice and definitely watch part 2. It will change your view of the matrix. Are the human people the ones who started the war ? Is AI a bad thing ?\"\n",
    "\n",
    "# Normalize it\n",
    "text = re.sub(r\"[^a-zA-Z0-9]\", \" \", text.lower())\n",
    "\n",
    "# Tokenize it\n",
    "words = text.split()\n",
    "print(words)"
   ]
  },
  {
   "cell_type": "code",
   "execution_count": 43,
   "metadata": {},
   "outputs": [
    {
     "name": "stdout",
     "output_type": "stream",
     "text": [
      "['first', 'time', 'see', 'second', 'renaissance', 'may', 'look', 'boring', 'look', 'least', 'twice', 'definitely', 'watch', 'part', '2', 'change', 'view', 'matrix', 'human', 'people', 'ones', 'started', 'war', 'ai', 'bad', 'thing']\n"
     ]
    }
   ],
   "source": [
    "# Remove stop words\n",
    "words = [w for w in words if w not in stopwords.words(\"english\")]\n",
    "print(words)"
   ]
  },
  {
   "cell_type": "markdown",
   "metadata": {},
   "source": [
    "### Sentence Parsing"
   ]
  },
  {
   "cell_type": "code",
   "execution_count": 44,
   "metadata": {},
   "outputs": [
    {
     "name": "stdout",
     "output_type": "stream",
     "text": [
      "(S\n",
      "  (NP I)\n",
      "  (VP\n",
      "    (VP (V shot) (NP (Det an) (N elephant)))\n",
      "    (PP (P in) (NP (Det my) (N pajamas)))))\n",
      "(S\n",
      "  (NP I)\n",
      "  (VP\n",
      "    (V shot)\n",
      "    (NP (Det an) (N elephant) (PP (P in) (NP (Det my) (N pajamas))))))\n"
     ]
    }
   ],
   "source": [
    "import nltk\n",
    "\n",
    "# Define a custom grammar\n",
    "my_grammar = nltk.CFG.fromstring(\"\"\"\n",
    "S -> NP VP\n",
    "PP -> P NP\n",
    "NP -> Det N | Det N PP | 'I'\n",
    "VP -> V NP | VP PP\n",
    "Det -> 'an' | 'my'\n",
    "N -> 'elephant' | 'pajamas'\n",
    "V -> 'shot'\n",
    "P -> 'in'\n",
    "\"\"\")\n",
    "parser = nltk.ChartParser(my_grammar)\n",
    "\n",
    "# Parse a sentence\n",
    "sentence = word_tokenize(\"I shot an elephant in my pajamas\")\n",
    "for tree in parser.parse(sentence):\n",
    "    print(tree)"
   ]
  },
  {
   "cell_type": "markdown",
   "metadata": {},
   "source": [
    "## Stemming & Lemmatization\n",
    "\n",
    "### Stemming"
   ]
  },
  {
   "cell_type": "code",
   "execution_count": 45,
   "metadata": {},
   "outputs": [
    {
     "name": "stdout",
     "output_type": "stream",
     "text": [
      "['first', 'time', 'see', 'second', 'renaiss', 'may', 'look', 'bore', 'look', 'least', 'twice', 'definit', 'watch', 'part', '2', 'chang', 'view', 'matrix', 'human', 'peopl', 'one', 'start', 'war', 'ai', 'bad', 'thing']\n"
     ]
    }
   ],
   "source": [
    "from nltk.stem.porter import PorterStemmer\n",
    "\n",
    "# Reduce words to their stems\n",
    "stemmed = [PorterStemmer().stem(w) for w in words]\n",
    "print(stemmed)"
   ]
  },
  {
   "cell_type": "markdown",
   "metadata": {},
   "source": [
    "### Lemmatization"
   ]
  },
  {
   "cell_type": "code",
   "execution_count": 46,
   "metadata": {},
   "outputs": [
    {
     "name": "stdout",
     "output_type": "stream",
     "text": [
      "['first', 'time', 'see', 'second', 'renaissance', 'may', 'look', 'boring', 'look', 'least', 'twice', 'definitely', 'watch', 'part', '2', 'change', 'view', 'matrix', 'human', 'people', 'one', 'started', 'war', 'ai', 'bad', 'thing']\n"
     ]
    }
   ],
   "source": [
    "from nltk.stem.wordnet import WordNetLemmatizer\n",
    "\n",
    "# Reduce words to their root form\n",
    "lemmed = [WordNetLemmatizer().lemmatize(w) for w in words]\n",
    "print(lemmed)"
   ]
  },
  {
   "cell_type": "code",
   "execution_count": 47,
   "metadata": {},
   "outputs": [
    {
     "name": "stdout",
     "output_type": "stream",
     "text": [
      "['first', 'time', 'see', 'second', 'renaissance', 'may', 'look', 'bore', 'look', 'least', 'twice', 'definitely', 'watch', 'part', '2', 'change', 'view', 'matrix', 'human', 'people', 'one', 'start', 'war', 'ai', 'bad', 'thing']\n"
     ]
    }
   ],
   "source": [
    "# Lemmatize verbs by specifying pos\n",
    "lemmed = [WordNetLemmatizer().lemmatize(w, pos='v') for w in lemmed]\n",
    "print(lemmed)"
   ]
  },
  {
   "cell_type": "code",
   "execution_count": null,
   "metadata": {},
   "outputs": [],
   "source": []
  },
  {
   "cell_type": "code",
   "execution_count": 1,
   "metadata": {},
   "outputs": [
    {
     "name": "stderr",
     "output_type": "stream",
     "text": [
      "The Ghostscript executable isn't found.\n",
      "See http://web.mit.edu/ghostscript/www/Install.htm\n",
      "If you're using a Mac, you can try installing\n",
      "https://docs.brew.sh/Installation then `brew install ghostscript`\n"
     ]
    },
    {
     "ename": "LookupError",
     "evalue": "",
     "output_type": "error",
     "traceback": [
      "\u001b[1;31m---------------------------------------------------------------------------\u001b[0m",
      "\u001b[1;31mLookupError\u001b[0m                               Traceback (most recent call last)",
      "\u001b[1;32m~\\Anaconda3\\lib\\site-packages\\nltk\\tree.py\u001b[0m in \u001b[0;36m_repr_png_\u001b[1;34m(self)\u001b[0m\n\u001b[0;32m    817\u001b[0m                     [\n\u001b[1;32m--> 818\u001b[1;33m                         find_binary(\n\u001b[0m\u001b[0;32m    819\u001b[0m                             \u001b[1;34m\"gs\"\u001b[0m\u001b[1;33m,\u001b[0m\u001b[1;33m\u001b[0m\u001b[1;33m\u001b[0m\u001b[0m\n",
      "\u001b[1;32m~\\Anaconda3\\lib\\site-packages\\nltk\\internals.py\u001b[0m in \u001b[0;36mfind_binary\u001b[1;34m(name, path_to_bin, env_vars, searchpath, binary_names, url, verbose)\u001b[0m\n\u001b[0;32m    687\u001b[0m ):\n\u001b[1;32m--> 688\u001b[1;33m     return next(\n\u001b[0m\u001b[0;32m    689\u001b[0m         find_binary_iter(\n",
      "\u001b[1;32m~\\Anaconda3\\lib\\site-packages\\nltk\\internals.py\u001b[0m in \u001b[0;36mfind_binary_iter\u001b[1;34m(name, path_to_bin, env_vars, searchpath, binary_names, url, verbose)\u001b[0m\n\u001b[0;32m    672\u001b[0m     \"\"\"\n\u001b[1;32m--> 673\u001b[1;33m     for file in find_file_iter(\n\u001b[0m\u001b[0;32m    674\u001b[0m         \u001b[0mpath_to_bin\u001b[0m \u001b[1;32mor\u001b[0m \u001b[0mname\u001b[0m\u001b[1;33m,\u001b[0m \u001b[0menv_vars\u001b[0m\u001b[1;33m,\u001b[0m \u001b[0msearchpath\u001b[0m\u001b[1;33m,\u001b[0m \u001b[0mbinary_names\u001b[0m\u001b[1;33m,\u001b[0m \u001b[0murl\u001b[0m\u001b[1;33m,\u001b[0m \u001b[0mverbose\u001b[0m\u001b[1;33m\u001b[0m\u001b[1;33m\u001b[0m\u001b[0m\n",
      "\u001b[1;32m~\\Anaconda3\\lib\\site-packages\\nltk\\internals.py\u001b[0m in \u001b[0;36mfind_file_iter\u001b[1;34m(filename, env_vars, searchpath, file_names, url, verbose, finding_dir)\u001b[0m\n\u001b[0;32m    631\u001b[0m         \u001b[0mdiv\u001b[0m \u001b[1;33m=\u001b[0m \u001b[1;34m\"=\"\u001b[0m \u001b[1;33m*\u001b[0m \u001b[1;36m75\u001b[0m\u001b[1;33m\u001b[0m\u001b[1;33m\u001b[0m\u001b[0m\n\u001b[1;32m--> 632\u001b[1;33m         \u001b[1;32mraise\u001b[0m \u001b[0mLookupError\u001b[0m\u001b[1;33m(\u001b[0m\u001b[1;34m\"\\n\\n%s\\n%s\\n%s\"\u001b[0m \u001b[1;33m%\u001b[0m \u001b[1;33m(\u001b[0m\u001b[0mdiv\u001b[0m\u001b[1;33m,\u001b[0m \u001b[0mmsg\u001b[0m\u001b[1;33m,\u001b[0m \u001b[0mdiv\u001b[0m\u001b[1;33m)\u001b[0m\u001b[1;33m)\u001b[0m\u001b[1;33m\u001b[0m\u001b[1;33m\u001b[0m\u001b[0m\n\u001b[0m\u001b[0;32m    633\u001b[0m \u001b[1;33m\u001b[0m\u001b[0m\n",
      "\u001b[1;31mLookupError\u001b[0m: \n\n===========================================================================\nNLTK was unable to find the gs file!\nUse software specific configuration paramaters or set the PATH environment variable.\n===========================================================================",
      "\nThe above exception was the direct cause of the following exception:\n",
      "\u001b[1;31mLookupError\u001b[0m                               Traceback (most recent call last)",
      "\u001b[1;32m~\\Anaconda3\\lib\\site-packages\\IPython\\core\\formatters.py\u001b[0m in \u001b[0;36m__call__\u001b[1;34m(self, obj)\u001b[0m\n\u001b[0;32m    343\u001b[0m             \u001b[0mmethod\u001b[0m \u001b[1;33m=\u001b[0m \u001b[0mget_real_method\u001b[0m\u001b[1;33m(\u001b[0m\u001b[0mobj\u001b[0m\u001b[1;33m,\u001b[0m \u001b[0mself\u001b[0m\u001b[1;33m.\u001b[0m\u001b[0mprint_method\u001b[0m\u001b[1;33m)\u001b[0m\u001b[1;33m\u001b[0m\u001b[1;33m\u001b[0m\u001b[0m\n\u001b[0;32m    344\u001b[0m             \u001b[1;32mif\u001b[0m \u001b[0mmethod\u001b[0m \u001b[1;32mis\u001b[0m \u001b[1;32mnot\u001b[0m \u001b[1;32mNone\u001b[0m\u001b[1;33m:\u001b[0m\u001b[1;33m\u001b[0m\u001b[1;33m\u001b[0m\u001b[0m\n\u001b[1;32m--> 345\u001b[1;33m                 \u001b[1;32mreturn\u001b[0m \u001b[0mmethod\u001b[0m\u001b[1;33m(\u001b[0m\u001b[1;33m)\u001b[0m\u001b[1;33m\u001b[0m\u001b[1;33m\u001b[0m\u001b[0m\n\u001b[0m\u001b[0;32m    346\u001b[0m             \u001b[1;32mreturn\u001b[0m \u001b[1;32mNone\u001b[0m\u001b[1;33m\u001b[0m\u001b[1;33m\u001b[0m\u001b[0m\n\u001b[0;32m    347\u001b[0m         \u001b[1;32melse\u001b[0m\u001b[1;33m:\u001b[0m\u001b[1;33m\u001b[0m\u001b[1;33m\u001b[0m\u001b[0m\n",
      "\u001b[1;32m~\\Anaconda3\\lib\\site-packages\\nltk\\tree.py\u001b[0m in \u001b[0;36m_repr_png_\u001b[1;34m(self)\u001b[0m\n\u001b[0;32m    835\u001b[0m                 )\n\u001b[0;32m    836\u001b[0m                 \u001b[0mprint\u001b[0m\u001b[1;33m(\u001b[0m\u001b[0mpre_error_message\u001b[0m\u001b[1;33m,\u001b[0m \u001b[0mfile\u001b[0m\u001b[1;33m=\u001b[0m\u001b[0msys\u001b[0m\u001b[1;33m.\u001b[0m\u001b[0mstderr\u001b[0m\u001b[1;33m)\u001b[0m\u001b[1;33m\u001b[0m\u001b[1;33m\u001b[0m\u001b[0m\n\u001b[1;32m--> 837\u001b[1;33m                 \u001b[1;32mraise\u001b[0m \u001b[0mLookupError\u001b[0m \u001b[1;32mfrom\u001b[0m \u001b[0me\u001b[0m\u001b[1;33m\u001b[0m\u001b[1;33m\u001b[0m\u001b[0m\n\u001b[0m\u001b[0;32m    838\u001b[0m \u001b[1;33m\u001b[0m\u001b[0m\n\u001b[0;32m    839\u001b[0m             \u001b[1;32mwith\u001b[0m \u001b[0mopen\u001b[0m\u001b[1;33m(\u001b[0m\u001b[0mout_path\u001b[0m\u001b[1;33m,\u001b[0m \u001b[1;34m\"rb\"\u001b[0m\u001b[1;33m)\u001b[0m \u001b[1;32mas\u001b[0m \u001b[0msr\u001b[0m\u001b[1;33m:\u001b[0m\u001b[1;33m\u001b[0m\u001b[1;33m\u001b[0m\u001b[0m\n",
      "\u001b[1;31mLookupError\u001b[0m: "
     ]
    },
    {
     "data": {
      "text/plain": [
       "Tree('S', [Tree('PERSON', [('Antonio', 'NNP')]), ('joined', 'VBD'), Tree('ORGANIZATION', [('Udacity', 'NNP'), ('Inc.', 'NNP')]), ('in', 'IN'), Tree('GPE', [('California', 'NNP')]), ('.', '.')])"
      ]
     },
     "execution_count": 1,
     "metadata": {},
     "output_type": "execute_result"
    }
   ],
   "source": [
    "from nltk import pos_tag, ne_chunk\n",
    "\n",
    "from nltk.tokenize import word_tokenize\n",
    "\n",
    "#Recognize named entities in a tagged sentence\n",
    "\n",
    "ne_chunk(pos_tag(word_tokenize(\"Antonio joined Udacity Inc. in California.\")))\n"
   ]
  },
  {
   "cell_type": "code",
   "execution_count": null,
   "metadata": {},
   "outputs": [],
   "source": []
  }
 ],
 "metadata": {
  "kernelspec": {
   "display_name": "Python 3",
   "language": "python",
   "name": "python3"
  },
  "language_info": {
   "codemirror_mode": {
    "name": "ipython",
    "version": 3
   },
   "file_extension": ".py",
   "mimetype": "text/x-python",
   "name": "python",
   "nbconvert_exporter": "python",
   "pygments_lexer": "ipython3",
   "version": "3.8.8"
  }
 },
 "nbformat": 4,
 "nbformat_minor": 2
}
